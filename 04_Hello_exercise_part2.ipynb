{
  "nbformat": 4,
  "nbformat_minor": 0,
  "metadata": {
    "colab": {
      "name": "Hello_exercise.ipynb",
      "provenance": [],
      "collapsed_sections": []
    },
    "kernelspec": {
      "name": "python3",
      "display_name": "Python 3"
    },
    "language_info": {
      "name": "python"
    }
  },
  "cells": [
    {
      "cell_type": "code",
      "metadata": {
        "colab": {
          "base_uri": "https://localhost:8080/",
          "height": 130
        },
        "id": "RBS0arW20TrB",
        "outputId": "d354f573-5c47-46bf-8130-f731bbc44797"
      },
      "source": [
        "from datetime import datetime\n",
        "date_format = '%m/%d/%Y\n",
        "today = datetime.today().strftime(%m/%d/%Y)\n",
        "input('What's your name?)\n",
        "bcn = input('Are you in Barcelona? (please answer with yes or no)')\n",
        "\n",
        "if bcn == yes:\n",
        "        arrival = input('What day did you arrive in Barcelona? (please answer as mm/dd/yyyy)')\n",
        "        first_date  = datetime.strptime(arrival, date_format)\n",
        "        sec_date = datetime.strptime(today, date_format)\n",
        "        diff = sec_date - first_date\n",
        "        diff = diff.days\n",
        "        print(diff)\n",
        "print('Please check the output file for the response')\n",
        "\n",
        "\n",
        "with open('student_arrival.txt', 'a') as file:\n",
        "         if bcn == yes:\n",
        "              if diff >=100:\n",
        "                        print(f'Hi {student}, welcome to the program', file=file)\n",
        "                        print('Are you from Barcelona?', file=file)\n",
        "                elif (diff>7) and (diff<100):\n",
        "                        print(f'Hi {student}, welcome to Barcelona. We hope you like the city so far', file=file)\n",
        "         else:\n",
        "                        print(f'Welcome to Barcelona, {student}. We hope you are enjoying the first few days.', file=file)\n",
        "              else:\n",
        "                print('We hope to see you soon', file = file)"
      ],
      "execution_count": null,
      "outputs": [
        {
          "output_type": "error",
          "ename": "SyntaxError",
          "evalue": "ignored",
          "traceback": [
            "\u001b[0;36m  File \u001b[0;32m\"<ipython-input-16-5c239b2dd80c>\"\u001b[0;36m, line \u001b[0;32m2\u001b[0m\n\u001b[0;31m    date_format = '%m/%d/%Y\u001b[0m\n\u001b[0m                           ^\u001b[0m\n\u001b[0;31mSyntaxError\u001b[0m\u001b[0;31m:\u001b[0m EOL while scanning string literal\n"
          ]
        }
      ]
    }
  ]
}